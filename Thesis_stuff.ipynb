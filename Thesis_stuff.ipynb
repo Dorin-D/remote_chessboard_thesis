{
 "cells": [
  {
   "cell_type": "code",
   "execution_count": 1,
   "metadata": {
    "id": "QUB9gAcU1rDd"
   },
   "outputs": [],
   "source": [
    "import cv2\n",
    "import matplotlib.pyplot as plt\n",
    "import numpy as np"
   ]
  },
  {
   "cell_type": "code",
   "execution_count": 2,
   "metadata": {},
   "outputs": [],
   "source": [
    "#resizes an image and displays it\n",
    "def imshow(image):\n",
    "    scaled_image = cv2.resize(image, (960, 540), interpolation=cv2.INTER_AREA)\n",
    "    #scaled_image = image\n",
    "    cv2.imshow(\"work_work\", scaled_image)\n",
    "    cv2.waitKey(0) \n",
    "    cv2.destroyAllWindows()\n",
    "    \n",
    "def imshow_unscaled(image):\n",
    "    cv2.imshow(\"work_work\", image)\n",
    "    cv2.waitKey(0) \n",
    "    cv2.destroyAllWindows()\n",
    "    \n",
    "#returns lines detected by the hough transform\n",
    "def hough_transform(edges):\n",
    "  lines = cv2.HoughLines(edges,1,np.pi/180,100)\n",
    "  lines = lines[:, 0, :]\n",
    "  return lines\n",
    "\n",
    "#draws lines over the dest image\n",
    "def draw_lines(lines, dest):\n",
    "    lines_length = len(lines)\n",
    "    line_length = 10000\n",
    "    for i in range(lines_length):\n",
    "        rho = lines[i][0]\n",
    "        theta = lines[i][1]\n",
    "        a = np.cos(theta)\n",
    "        b = np.sin(theta)\n",
    "        x0 = a*rho\n",
    "        y0 = b*rho\n",
    "        x1 = int(x0 + line_length*(-b))\n",
    "        y1 = int(y0 + line_length*(a))\n",
    "        x2 = int(x0 - line_length*(-b))\n",
    "        y2 = int(y0 - line_length*(a))\n",
    "        cv2.line(dest,(x1,y1),(x2,y2),(255),1)\n",
    "    return\n",
    "\n",
    "#function taken from\n",
    "#https://stackoverflow.com/questions/4292249/automatic-calculation-of-low-and-high-thresholds-for-the-canny-operation-in-open\n",
    "#performs canny edge detection using automatically calculated thresholds\n",
    "def auto_canny(image, sigma=0.33):\n",
    "    # compute the median of the single channel pixel intensities\n",
    "    v = np.median(image)\n",
    "    # apply automatic Canny edge detection using the computed median\n",
    "    t1 = int(max(0, (1.0 - sigma) * v))\n",
    "    t2 = int(min(255, (1.0 + sigma) * v))\n",
    "    edge_image = cv2.Canny(image, t1, t2)\n",
    "\n",
    "    # return the edged image\n",
    "    return edge_image\n",
    "\n",
    "#TODO: improve line detection to avoid rogue lines\n",
    "#detects lines in an image and draws them over the dest\n",
    "def lines_detection(image, dest):\n",
    "  k_size = 7\n",
    "  blurred_image = cv2.GaussianBlur(image,(k_size, k_size),cv2.BORDER_DEFAULT)\n",
    "  #imshow(blurred_image)\n",
    "  edge_image = auto_canny(blurred_image)\n",
    "  #edge_image = cv2.Canny(image, 100, 200)\n",
    "  lines = hough_transform(edge_image)\n",
    "  #print(lines)\n",
    "  draw_lines(lines, dest)\n",
    "  return lines #returns the line coordinates\n",
    "\n",
    "#on chessboards, k should be 18 (9 vertical lines, 9 horizontal)\n",
    "#in this case, our plan is to cluster vertical and horizontal lines, then do 2 new 9-line clusters\n",
    "#the plan failed, but we keep the idea to get vertical and horizontal lines into separate grou\n",
    "#points is a np.array of points (from hough transform)\n",
    "def initialize_centroids(points, k):\n",
    "    \"\"\"returns k random centroids from the initial points\"\"\"\n",
    "    centroids = points.copy()\n",
    "    np.random.shuffle(centroids)\n",
    "    return centroids[:k]\n",
    "\n",
    "def closest_centroid(points, centroids):\n",
    "    \"\"\"returns an array containing the index to the nearest centroid for each point\"\"\"\n",
    "    distances = np.sqrt(((points - centroids[:, np.newaxis])**2).sum(axis=2))\n",
    "    \n",
    "    return np.argmin(distances, axis=0)\n",
    "\n",
    "def move_centroids(points, closest, centroids):\n",
    "    \"\"\"returns the new centroids assigned from the points closest to them\"\"\"\n",
    "    return np.array([points[closest==k].mean(axis=0) for k in range(centroids.shape[0])])\n",
    "\n",
    "\n",
    "\n",
    "def lines_clustering(lines, k):\n",
    "    #k-means clustering using the numpy library\n",
    "    #http://flothesof.github.io/k-means-numpy.html\n",
    "\n",
    "    centroids = initialize_centroids(lines, k)\n",
    "    \n",
    "    for i in range (20):\n",
    "        closest = closest_centroid(lines, centroids)\n",
    "        centroids = move_centroids(lines, closest, centroids)\n",
    "    return centroids\n",
    "\n",
    "#code adapted from https://stackoverflow.com/a/416559 @erisu\n",
    "#must be adapted if lines are parallel (no intersection)\n",
    "#must be checked if lines are the same (lines shouldn't be the same, otherwise (x,y) would be the entire line)\n",
    "\n",
    "\n",
    "#finds intersection point between line1 and line2 using rho/theta values and returns it as x/y coordinate\n",
    "def hough_line_intersection(line1, line2):\n",
    "    rho1 = line1[0]\n",
    "    theta1 = line1[1]\n",
    "    rho2 = line2[0]\n",
    "    theta2 = line2[1]\n",
    "    a1 = np.cos(theta1)\n",
    "    b1 = np.sin(theta1)\n",
    "    a2 = np.cos(theta2)\n",
    "    b2 = np.sin(theta2)\n",
    "    d = (a1 * b2) - (a2 * b1) #determinative\n",
    "    x = int((b2 * rho1 - b1 * rho2)/d)\n",
    "    y = int((-a2 * rho1 + a1 * rho2)/d)\n",
    "    return x,y\n",
    "\n",
    "#creates board reference with 9x9 corner points representing the line intersections\n",
    "def create_reference(size_reference):\n",
    "    result = np.zeros((size_reference+1, size_reference+1))\n",
    "    size_square = int(size_reference / 8)\n",
    "    reference = np.zeros((9), dtype='int32')\n",
    "    for i in range(9):\n",
    "            reference[i] = size_square * i\n",
    "    for x in reference:\n",
    "        for y in reference:\n",
    "            cv2.circle(result, (x,y), radius=0, color=255, thickness=-1)\n",
    "    return result, reference\n",
    "\n",
    "def create_reference_matrix(reference):\n",
    "    reference_matrix = np.zeros((len(reference), len(reference), 2), dtype=int)\n",
    "    for i in range(len(reference)):\n",
    "        for j in range(len(reference)):\n",
    "            reference_matrix[i][j][:] = reference[i], reference[j]\n",
    "    return reference_matrix\n",
    "\n",
    "#finds closest reference point to a point\n",
    "#point - np.array of length 2: [x,y]\n",
    "#reference_matrix.shape: (a,b,2)\n",
    "def get_closest_distance(point, reference_matrix):\n",
    "    distances = np.sqrt(((point - reference_matrix[:, :, np.newaxis])**2).sum(axis=3))\n",
    "    min_distance = distances.min()\n",
    "    return min_distance"
   ]
  },
  {
   "cell_type": "code",
   "execution_count": 3,
   "metadata": {},
   "outputs": [],
   "source": [
    "#first argument are the 4 corners used to calculate the transformative matrix\n",
    "#second argument are the corners that will be transformed\n",
    "#third argument are the corners in the reference image\n",
    "def find_correspondence(corners_transformative, corners_original, corners_reference):\n",
    "    outer_corners = np.array([[corners_reference[0], corners_reference[0]],\n",
    "                          [corners_reference[0], corners_reference[-1]],\n",
    "                          [corners_reference[-1], corners_reference[0]],\n",
    "                          [corners_reference[-1], corners_reference[-1]]])\n",
    "    \n",
    "    \n",
    "    total_points = corners_original.shape[0] * corners_original.shape[1]\n",
    "    corners_reference_matrix = create_reference_matrix(corners_reference)\n",
    "    \n",
    "    #m = 1      # number of lines to search in each direction\n",
    "    d_min = 50   # radius for the intersection detection\n",
    "    \n",
    "    n_matches_best = 0;   # number of matches of best candidate found so far\n",
    "    avg_error_best = 10**10   # the average error of the best candidate\n",
    "    \n",
    "    #n1 = len(corners_original)\n",
    "    #n2 = len(corners_original[0])\n",
    "\n",
    "    #m1 = int(len(corners_original)*m)\n",
    "    #m2 = int(len(corners_original[0])*m)\n",
    "    \n",
    "    #in perspective transform, input corners have to be float32 or float64\n",
    "\n",
    "    corners_to_transform = corners_original.astype(\"float32\")\n",
    "    \n",
    "    #debugging_thing = 0\n",
    "    #debugging_thing_2 = 0\n",
    "    \n",
    "    #for i1a in range(min(m1,n1)):\n",
    "        #for i1b in range(n1-1, max(n1-m1, i1a+8), -1):\n",
    "            #for i2a in range(min(m2,n2)):\n",
    "                #for i2b in range(n2-1, max(n2-m2, i2a+8), -1):\n",
    "                    #'''               \n",
    "    if True:\n",
    "        if True:\n",
    "            if True:\n",
    "                if True:\n",
    "    #for i1a in range(min(m1,n1)):\n",
    "#        for i1b in range(min(m1,n1)):\n",
    "#            for i2a in range(min(m2,n2)):\n",
    "#                for i2b in range(min(m2,n2)):\n",
    "                    #'''                \n",
    "                    #debugging_thing += 1\n",
    "                    #if((i1a == i1b) or (i2a == i2b)):\n",
    "                        #debugging_thing_2 += 1\n",
    "                        #continue\n",
    "                    #get the four corners corresponding to the intersection of lines\n",
    "                    #([1a,2a], [1a,2b], [1b,2b], [1b,2a])\n",
    "                    p_corners_img = np.zeros((4,2), dtype = \"int32\")\n",
    "                    p_corners_img[0,:] = [corners_transformative[0][0], corners_transformative[0][1]]\n",
    "                    p_corners_img[1,:] = [corners_transformative[1][0], corners_transformative[1][1]]\n",
    "                    p_corners_img[2,:] = [corners_transformative[2][0], corners_transformative[2][1]]\n",
    "                    p_corners_img[3,:] = [corners_transformative[3][0], corners_transformative[3][1]]\n",
    "                    \n",
    "#                    p_corners_img[0,:] = [25,293]\n",
    "#                    p_corners_img[1,:] = [334,21]\n",
    "#                    p_corners_img[2,:] = [571,571]\n",
    "#                    p_corners_img[3,:] = [774,158]\n",
    "                    \n",
    "                    #make sure that points are in clockwise order\n",
    "                    #if not, exchange points 2 and 4\n",
    "                    v12 = p_corners_img[1,:] - p_corners_img[0,:]\n",
    "                    v13 = p_corners_img[2,:] - p_corners_img[0,:]\n",
    "                    if(v12[0] * v13[1] - v12[1] * v13[0] < 0):\n",
    "                        #swap the points\n",
    "                        temp = np.copy(p_corners_img[1,:])\n",
    "                        p_corners_img[1,:] = np.copy(p_corners_img[3,:])\n",
    "                        p_corners_img[3,:] = np.copy(temp)\n",
    "\n",
    "                    #let the points start from left top\n",
    "                    sort_corners = p_corners_img\n",
    "                    sort_corners = sort_corners[:,0] ** 2 + sort_corners[:,1]**2\n",
    "\n",
    "                    sort_corners_min = np.amin(sort_corners)\n",
    "                    index = np.where(sort_corners == sort_corners_min)\n",
    "                    index = index[0]\n",
    "                    #hopefully the arrays aren't in a fucked up order coz im tired af\n",
    "                    #remove above comment someday if no problems arise\n",
    "                    p_corners_img = np.roll(p_corners_img, -index, axis=0)\n",
    "                    p_corners_img_f32 = p_corners_img.astype('float32')\n",
    "                    outer_corners_f32 = outer_corners.astype('float32')\n",
    "                    projective_matrix = cv2.getPerspectiveTransform(p_corners_img_f32, outer_corners_f32)\n",
    "                    #transform all intersections points to the reference image\n",
    "                    corners_transformed = cv2.perspectiveTransform(corners_to_transform, projective_matrix)\n",
    "                    #steps:\n",
    "                    \n",
    "                    #for each corner transformed, find closest reference point\n",
    "                    #calculate distance to reference point\n",
    "                    #average out error\n",
    "                    #save minimum error\n",
    "                    sizex, sizey = corners_reference_matrix.shape[0], corners_reference_matrix.shape[1]\n",
    "                    distance_to_points = 10**3 * np.ones((sizex, sizey))\n",
    "                    for i in range(sizex):\n",
    "                        for j in range(sizey):\n",
    "                            distance_to_points[i][j] = get_closest_distance(corners_reference_matrix[i][j], \n",
    "                                                                           corners_transformed)\n",
    "                            #if distance_to_points[i][j] < d_min:\n",
    "                                #n_matches += 1\n",
    "                    n_matches = np.count_nonzero(distance_to_points < d_min)\n",
    "                    distance_to_points = np.where(distance_to_points < d_min, distance_to_points, 0)\n",
    "                    avg_err = np.sum(distance_to_points) / n_matches\n",
    "                    \n",
    "                    #if (debugging_thing % 10000 == 0):\n",
    "                        #print(debugging_thing)\n",
    "                    #if n_matches < n_matches_best:\n",
    "                        #continue\n",
    "                    #if (n_matches == n_matches_best) and (avg_err > avg_err_best):\n",
    "                        #continue\n",
    "                    avg_err_best = avg_err\n",
    "                    n_matches_best = n_matches\n",
    "                    best_transform = projective_matrix\n",
    "                    \n",
    "                    #debugging line\n",
    "                    print(\"proj matrix: \")\n",
    "                    print(projective_matrix)\n",
    "                    print(\"Avg error: \" + str(avg_err))\n",
    "                    print(\"n_matches: \" + str(n_matches))\n",
    "                    print(distance_to_points)\n",
    "                    #return best_transform\n",
    "                    #'''\n",
    "                    '''\n",
    "                    error = 0\n",
    "                    for rows in corners_transformed:\n",
    "                        for point_transformed in rows:\n",
    "                            distance = get_closest_distance(point_transformed, corners_reference_matrix)\n",
    "                            error += distance\n",
    "                    \n",
    "                    avg_error = error/total_points\n",
    "                    if avg_error < avg_error_best:\n",
    "                        best_transform = np.copy(projective_matrix)\n",
    "                        avg_error_best = avg_error\n",
    "                        print(\"proj matrix: \")\n",
    "                        print(projective_matrix)\n",
    "                        print(\"Avg error: \" + str(avg_error))\n",
    "                    '''\n",
    "    #print(debugging_thing)\n",
    "    #print(debugging_thing_2)\n",
    "    return best_transform\n",
    "                    \n",
    "        \n",
    "    '''start of matlab code'''\n",
    "    '''\n",
    "    \n",
    "#for i1a=1:min(M1,N1)\n",
    "#    for i1b=N1:-1:max(N1-M1,i1a+8)\n",
    "#        for i2a=1:min(M2,N2)\n",
    "#            for i2b=N2:-1:max(N2-M2,i2a+8)\n",
    "#loops already done why tf didn't I remove them\n",
    "\n",
    "                % Fit a homography using those four points.\n",
    "                T = fitgeotrans(pCornersImg,pCornersRef, 'projective');\n",
    "                \n",
    "                % Transform all intersections points to the reference image.\n",
    "                pIntersections = transformPointsForward(T, ...\n",
    "                    [xIntersections(:) yIntersections(:)]);\n",
    "                                \n",
    "                pIntersectionsRef = [xIntersectionsRef(:) yIntersectionsRef(:)];\n",
    "                \n",
    "                % For each predicted reference point, find the closest\n",
    "                % detected image point.\n",
    "                dPts = 1e6 * ones(size(pInsectionsRef,1),1);\n",
    "                for i=1:size(pIntersectionsRef,1)\n",
    "                    x = pIntersectionsRef(i,1);\n",
    "                    y = pIntersectionsRef(i,2);\n",
    "                    d = ((x-pIntersections(:,1)).^2 + (y-pIntersections(:,2)).^2).^0.5;\n",
    "                    dmin = min(d);\n",
    "                    dPts(i) = dmin;\n",
    "                end\n",
    "                \n",
    "                % If the distance is less than DMIN, count it as a match.\n",
    "                nMatches = sum(dPts < DMIN);\n",
    "                \n",
    "                % Calculate the avg error of the matched points.\n",
    "                avgErr = mean(dPts(dPts < DMIN));\n",
    "                \n",
    "                % Keep the best combination found so far, in terms of\n",
    "                % the number of matches and the minimum error.\n",
    "                if nMatches < nMatchesBest\n",
    "                    continue;\n",
    "                end\n",
    "                \n",
    "                if (nMatches == nMatchesBest) && (avgErr > avgErrBest)\n",
    "                    continue;\n",
    "                end\n",
    "                \n",
    "                % Got a better combination; save it.\n",
    "                avgErrBest = avgErr;\n",
    "                nMatchesBest = nMatches;\n",
    "                corners = pCornersImg;\n",
    "                \n",
    "                Ewarp = imwarp(E, T, 'OutputView', ...\n",
    "                    imref2d(size(zeros(max(xIntersectionsRef(:)),max(yIntersectionsRef(:)))),...\n",
    "                    [1 max(xIntersectionsRef(:))], [1 max(yIntersectionsRef(:))]));\n",
    "\n",
    "                fprintf(' Found %d matches, average error = %f\\n', ...\n",
    "                    nMatchesBest, avgErrBest);\n",
    "    '''\n",
    "    '''end of matlab code'''\n",
    "def geometric_projection():\n",
    "    \n",
    "    return\n",
    "    \n",
    "def reference_matching():\n",
    "    \n",
    "    return"
   ]
  },
  {
   "cell_type": "code",
   "execution_count": 4,
   "metadata": {},
   "outputs": [
    {
     "data": {
      "text/plain": [
       "' #This section allows you to draw and display first 20 transforms and write the transformed coordinates\\n#for debugging purposes, of course\\n                    print(\"First ten coords\")\\n                    destination_points = np.zeros((801,801))\\n                    for i in range (corners_transformed.shape[0]):\\n                        for j in range(corners_transformed.shape[1]):\\n                            x = int(corners_transformed[i][j][0])\\n                            y = int(corners_transformed[i][j][1])\\n                        \\n                            if (i == 0) and (j < 10):\\n                                print(x,y)\\n                            cv2.circle(destination_points, (x,y), radius=0, color=255, thickness=-1)\\n                    \\n                    imshow_unscaled(destination_points)\\n                    \\n                    debugging_thing +=1\\n                    if debugging_thing > 20:\\n                        return\\n                    '"
      ]
     },
     "execution_count": 4,
     "metadata": {},
     "output_type": "execute_result"
    }
   ],
   "source": [
    "''' #This section allows you to draw and display first 20 transforms and write the transformed coordinates\n",
    "#for debugging purposes, of course\n",
    "                    print(\"First ten coords\")\n",
    "                    destination_points = np.zeros((801,801))\n",
    "                    for i in range (corners_transformed.shape[0]):\n",
    "                        for j in range(corners_transformed.shape[1]):\n",
    "                            x = int(corners_transformed[i][j][0])\n",
    "                            y = int(corners_transformed[i][j][1])\n",
    "                        \n",
    "                            if (i == 0) and (j < 10):\n",
    "                                print(x,y)\n",
    "                            cv2.circle(destination_points, (x,y), radius=0, color=255, thickness=-1)\n",
    "                    \n",
    "                    imshow_unscaled(destination_points)\n",
    "                    \n",
    "                    debugging_thing +=1\n",
    "                    if debugging_thing > 20:\n",
    "                        return\n",
    "                    '''"
   ]
  },
  {
   "cell_type": "code",
   "execution_count": 13,
   "metadata": {
    "scrolled": true
   },
   "outputs": [
    {
     "name": "stdout",
     "output_type": "stream",
     "text": [
      "proj matrix: \n",
      "[[ 9.06177484e-01 -1.89411534e+00  5.51262512e+02]\n",
      " [ 1.62734604e+00  1.77059833e+00 -5.77174945e+02]\n",
      " [-5.12126102e-06  1.27013162e-03  1.00000000e+00]]\n",
      "Avg error: 5.207312493854788\n",
      "n_matches: 81\n",
      "[[2.69024745 2.95382236 4.6667471  7.01840523 6.23149708 5.53646512\n",
      "  6.59029427 7.36954231 2.17037552]\n",
      " [6.04355203 4.39461785 6.66020795 7.78285264 7.47679648 8.13885654\n",
      "  8.51312561 8.64944398 6.47780288]\n",
      " [3.04362389 0.4602435  5.34125002 5.42326351 4.88858296 6.07693844\n",
      "  8.02565765 7.67267744 4.22379108]\n",
      " [1.9017021  2.57865726 5.92133375 6.16875697 3.26224988 6.34150861\n",
      "  8.51519023 7.20397055 4.09523421]\n",
      " [1.59182018 3.37433886 4.73145928 5.19700171 2.26678943 6.10174656\n",
      "  7.65244004 6.55012315 2.25787065]\n",
      " [0.58318004 1.51220008 4.27529957 6.42058578 6.573695   9.15666098\n",
      "  8.44978651 7.59287365 3.59491839]\n",
      " [5.8595009  6.13896076 5.61149677 6.41203362 6.36749913 6.82556039\n",
      "  7.53006049 6.3149392  3.32263436]\n",
      " [2.61729647 3.2393497  2.45710817 5.25951672 5.20895798 3.70118506\n",
      "  7.95417887 5.45323529 5.13485558]\n",
      " [5.47129628 3.7472571  4.91949279 3.29661962 5.10843645 2.97542167\n",
      "  5.27995332 3.70403077 3.48936026]]\n"
     ]
    }
   ],
   "source": [
    "best_transform = find_correspondence(refPt, intersection_coords, reference)\n",
    "\n",
    "#m = 1, debugging_thing = 16380\n",
    "#m = 0.6, debugging_thing = 14938\n",
    "#m = 0.1, debugging_thing = 4"
   ]
  },
  {
   "cell_type": "code",
   "execution_count": 14,
   "metadata": {},
   "outputs": [
    {
     "name": "stdout",
     "output_type": "stream",
     "text": [
      "(29, 21, 2)\n"
     ]
    }
   ],
   "source": [
    "print(intersection_coords.shape)"
   ]
  },
  {
   "cell_type": "code",
   "execution_count": 15,
   "metadata": {},
   "outputs": [],
   "source": [
    "#destination_image = np.zeros((801,801,3))\n",
    "#destination_image = cv2.warpPerspective(gray, best_transform, (2001,2001))\n",
    "destination_image = cv2.warpPerspective(gray, best_transform, (801,801))\n",
    "imshow_unscaled(destination_image)\n",
    "#imshow_unscaled(reference_image)"
   ]
  },
  {
   "cell_type": "code",
   "execution_count": 30,
   "metadata": {},
   "outputs": [
    {
     "name": "stdout",
     "output_type": "stream",
     "text": [
      "[[[800.4754    -13.184356 ]\n",
      "  [787.2136    797.1185   ]]\n",
      "\n",
      " [[  7.4103346  -1.7113405]\n",
      "  [ -5.1762657 790.63995  ]]]\n"
     ]
    }
   ],
   "source": [
    "print(cv2.perspectiveTransform(custom_coords.astype('float32'), best_transform))"
   ]
  },
  {
   "cell_type": "code",
   "execution_count": 31,
   "metadata": {},
   "outputs": [
    {
     "name": "stdout",
     "output_type": "stream",
     "text": [
      "[[ 9.09593102e-01 -1.90809380e+00  5.60049467e+02]\n",
      " [ 1.64578092e+00  1.83253620e+00 -5.93298187e+02]\n",
      " [ 1.24722118e-06  1.32724051e-03  1.00000000e+00]]\n"
     ]
    }
   ],
   "source": [
    "print(best_transform)"
   ]
  },
  {
   "cell_type": "code",
   "execution_count": 120,
   "metadata": {},
   "outputs": [
    {
     "name": "stdout",
     "output_type": "stream",
     "text": [
      "(600, 800, 3)\n"
     ]
    }
   ],
   "source": [
    "print(img.shape)"
   ]
  },
  {
   "cell_type": "code",
   "execution_count": 19,
   "metadata": {},
   "outputs": [],
   "source": [
    "#find_correspondence(intersection_coords, reference, reference_image, pointed_image)\n",
    "#find_correspondence(custom_coords, reference, reference_image, pointed_image, intersection_coords)\n",
    "#single_point = 454,423\n",
    "#translated = 111,602\n",
    "#warped order: red, blue, white, green\n",
    "#25,300 = red\n",
    "#330,20 = blue\n",
    "#570,570 = white\n",
    "#770,160 = green\n",
    "#print(\"Edges: \")\n",
    "#print(custom_coords)\n",
    "#projective_matrix = find_correspondence(custom_coords, reference, reference_image, single_pointed_image, custom_coords)\n",
    "\n",
    "#[[ 9.50428125e-01 -1.91845677e+00  5.51776328e+02]\n",
    "# [ 1.64835933e+00  1.79553427e+00 -5.79869263e+02]\n",
    "# [ 2.65607567e-05  1.25227715e-03  1.00000000e+00]]"
   ]
  },
  {
   "cell_type": "code",
   "execution_count": 8,
   "metadata": {},
   "outputs": [
    {
     "data": {
      "text/plain": [
       "'[[ 1.19215139e+02  1.31293923e+02  1.03544925e+04]\\n [ 2.50030089e+02  3.22178880e+02  4.88622189e+04]\\n [-6.50754779e+01  5.16274952e+01  6.58455793e+04]\\n [ 7.29752829e+01  3.01552735e+02  1.34596402e+05]]\\n \\n'"
      ]
     },
     "execution_count": 8,
     "metadata": {},
     "output_type": "execute_result"
    }
   ],
   "source": [
    "'''[[ 1.19215139e+02  1.31293923e+02  1.03544925e+04]\n",
    " [ 2.50030089e+02  3.22178880e+02  4.88622189e+04]\n",
    " [-6.50754779e+01  5.16274952e+01  6.58455793e+04]\n",
    " [ 7.29752829e+01  3.01552735e+02  1.34596402e+05]]\n",
    " \n",
    "'''"
   ]
  },
  {
   "cell_type": "markdown",
   "metadata": {},
   "source": [
    "custom_coords = np.array([[[330,20],[770,160]],[[25,300],[570,570]]])\n",
    "With sorted points:\n",
    "(4, 3)\n",
    "\n",
    "[[ 3.46608494e+02 -5.97178797e+02  1.70489803e+05]\n",
    "\n",
    " [ 9.95567175e+02 -1.18992498e+03  3.32089691e+05]\n",
    " \n",
    " [ 5.18268528e+02  4.90700113e+02 -1.60165371e+05]\n",
    " \n",
    " [ 1.48130887e+03 -7.00645752e+01 -1.60119730e+04]]\n",
    " \n",
    " "
   ]
  },
  {
   "cell_type": "code",
   "execution_count": 12,
   "metadata": {},
   "outputs": [
    {
     "name": "stdout",
     "output_type": "stream",
     "text": [
      "[  0 100 200 300 400 500 600 700 800]\n",
      "0\n",
      "800\n",
      "(801, 801)\n"
     ]
    }
   ],
   "source": [
    "reference_image, reference = create_reference(800)\n",
    "#imshow(reference_image)\n",
    "print(reference)\n",
    "print(reference[0])\n",
    "print(reference[-1])\n",
    "print(reference_image.shape)"
   ]
  },
  {
   "cell_type": "code",
   "execution_count": 35,
   "metadata": {
    "id": "wkNV53uAMA0g",
    "scrolled": true
   },
   "outputs": [],
   "source": [
    "#skip outlier elimination, as the project doesn't deal with solving this problem\n",
    "def outlier_elimination():\n",
    "  return"
   ]
  },
  {
   "cell_type": "code",
   "execution_count": 36,
   "metadata": {
    "id": "1uFT-llAMA2e"
   },
   "outputs": [],
   "source": [
    "def geometric_projection():\n",
    "  return"
   ]
  },
  {
   "cell_type": "code",
   "execution_count": 37,
   "metadata": {
    "id": "o3cXGYRyMJMa"
   },
   "outputs": [],
   "source": [
    "def bool_best_reference_matching():\n",
    "  return"
   ]
  },
  {
   "cell_type": "code",
   "execution_count": 38,
   "metadata": {
    "id": "s_JDIxtyMKNZ"
   },
   "outputs": [],
   "source": [
    "def board_locations():\n",
    "  return"
   ]
  },
  {
   "cell_type": "code",
   "execution_count": 39,
   "metadata": {
    "id": "WW5GTN-Q_RUz"
   },
   "outputs": [],
   "source": [
    "#google told me I can't save my own notebook"
   ]
  },
  {
   "cell_type": "code",
   "execution_count": 4,
   "metadata": {
    "colab": {
     "base_uri": "https://localhost:8080/",
     "height": 1000
    },
    "id": "VXozUTqJzWGu",
    "outputId": "5d4ca3c1-1be3-4efe-9dbe-5149d65ea943"
   },
   "outputs": [],
   "source": [
    "filename = './1.jpg'\n",
    "k = 2\n",
    "img = cv2.imread(filename)\n",
    "gray = cv2.cvtColor(img,cv2.COLOR_BGR2GRAY)\n",
    "dest = np.zeros_like(gray)\n",
    "#draw detected lines on dest\n",
    "lines = lines_detection(gray, dest)\n",
    "imshow(dest)\n",
    "\n",
    "lines = lines_detection(gray, dest)\n",
    "centroids = lines_clustering(lines, k)"
   ]
  },
  {
   "cell_type": "code",
   "execution_count": 5,
   "metadata": {},
   "outputs": [
    {
     "name": "stdout",
     "output_type": "stream",
     "text": [
      "0.41887903\n",
      "-89.0\n",
      "2.0594885\n",
      "769.0\n",
      "1.6406095\n",
      "858.0\n"
     ]
    }
   ],
   "source": [
    "#scale down the data within range 0-1\n",
    "min_theta = min(lines[:, 1])\n",
    "max_theta = max(lines[:, 1])\n",
    "min_rho = min(lines[:, 0])\n",
    "max_rho = max(lines[:, 0])\n",
    "\n",
    "print(min_theta)\n",
    "print(min_rho)\n",
    "print(max_theta)\n",
    "print(max_rho)\n",
    "\n",
    "#get difference in range (NOT RANGE ITSELF)\n",
    "range_theta = max_theta - min_theta\n",
    "range_rho = max_rho - min_rho\n",
    "print(range_theta)\n",
    "print(range_rho)\n",
    "\n",
    "#these normalised lines will be used to find horizontal/vertical lines later on\n",
    "lines_norm = np.zeros_like(lines)\n",
    "lines_norm[:,1] = lines[:,1]/range_theta\n",
    "lines_norm[:,0] = lines[:,0]/range_rho"
   ]
  },
  {
   "cell_type": "code",
   "execution_count": 6,
   "metadata": {},
   "outputs": [
    {
     "data": {
      "image/png": "[encoded data removed]",
      "text/plain": [
       "<Figure size 1152x648 with 1 Axes>"
      ]
     },
     "metadata": {
      "needs_background": "light"
     },
     "output_type": "display_data"
    }
   ],
   "source": [
    "k = 2\n",
    "centroids = lines_clustering(lines_norm, k)\n",
    "plt.figure(figsize=(16,9))\n",
    "plt.scatter(lines_norm[:, 0], lines_norm[:, 1], c='g', s=1)\n",
    "plt.scatter(centroids[:, 0], centroids[:, 1], c='r', s=10)    \n",
    "plt.show()"
   ]
  },
  {
   "cell_type": "code",
   "execution_count": 7,
   "metadata": {},
   "outputs": [],
   "source": [
    "closest = closest_centroid(lines_norm, centroids)\n",
    "clusters = []\n",
    "\n",
    "_, count = np.unique(closest, return_counts = True)\n",
    "for i in range(2):\n",
    "    clusters.append(np.empty(shape=(count[i], 2), dtype='float32'))\n",
    "\n",
    "counter = [0, 0]\n",
    "#add the line to the closest cluster\n",
    "for i in range (len(closest)):\n",
    "    c = closest[i]\n",
    "    clusters[c][counter[c]] = lines[i]\n",
    "    counter[c] += 1"
   ]
  },
  {
   "cell_type": "code",
   "execution_count": 8,
   "metadata": {
    "scrolled": true
   },
   "outputs": [
    {
     "name": "stdout",
     "output_type": "stream",
     "text": [
      "[454 423]\n",
      "2\n",
      "(2, 2, 2)\n",
      "[[[330  20]\n",
      "  [770 160]]\n",
      "\n",
      " [[ 25 300]\n",
      "  [570 570]]]\n",
      "330 20\n",
      "770 160\n",
      "25 300\n",
      "570 570\n"
     ]
    }
   ],
   "source": [
    "pointed_image = np.zeros_like(gray)\n",
    "\n",
    "intersection_coords = np.zeros((len(clusters[0]), len(clusters[1]), 2), dtype='int32')\n",
    "\n",
    "for i in range (len(clusters[0])):\n",
    "    for j in range (len(clusters[1])):\n",
    "        line1 = clusters[0][i]\n",
    "        line2 = clusters[1][j]\n",
    "        x,y = hough_line_intersection(line1, line2)\n",
    "        intersection_coords[i][j][0], intersection_coords[i][j][1] = x, y\n",
    "        cv2.circle(pointed_image, (x,y), radius=0, color=255, thickness=-1)\n",
    "imshow_unscaled(pointed_image)\n",
    "print(intersection_coords[0][0])\n",
    "print(len(intersection_coords[0][0]))\n",
    "\n",
    "custom_coords = np.zeros((2,2,2), dtype='int32')\n",
    "custom_coords = np.array([[[330,20],[770,160]],[[25,300],[570,570]]])\n",
    "print(custom_coords.shape)\n",
    "print(custom_coords)\n",
    "#custom_pointed_image = np.zeros_like(gray)\n",
    "for i in range(len(custom_coords)):\n",
    "    for j in range(len(custom_coords[0])):\n",
    "        x,y = custom_coords[i][j][0],custom_coords[i][j][1]\n",
    "        print(x,y)\n",
    "        #cv2.circle(pointed_image,(x,y), radius=10, color=255,thickness=-1)\n",
    "imshow_unscaled(pointed_image)"
   ]
  },
  {
   "cell_type": "code",
   "execution_count": 9,
   "metadata": {},
   "outputs": [],
   "source": [
    "# import the necessary packages\n",
    "import cv2\n",
    "# initialize the list of reference points and boolean indicating\n",
    "# whether cropping is being performed or not\n",
    "refPt = []\n",
    "cropping = False\n",
    "def click_and_crop(event, x, y, flags, param):\n",
    "    # grab references to the global variables\n",
    "    if event == cv2.EVENT_LBUTTONDOWN:\n",
    "        refPt.append((x, y))\n",
    "        \n",
    "\n",
    "\n",
    "# load the image, clone it, and setup the mouse callback function\n",
    "clone = img.copy()\n",
    "cv2.namedWindow(\"image\")\n",
    "cv2.setMouseCallback(\"image\", click_and_crop)\n",
    "# keep looping until the 'q' key is pressed\n",
    "while True:\n",
    "    # display the image and wait for a keypress\n",
    "    cv2.imshow(\"image\", img)\n",
    "    key = cv2.waitKey(1) & 0xFF\n",
    "    # if the 'r' key is pressed, reset the cropping region\n",
    "    if key == ord(\"c\"):\n",
    "        break\n",
    "# if there are two reference points, then crop the region of interest\n",
    "# from teh image and display it\n",
    "if len(refPt) == 2:\n",
    "    roi = clone[refPt[0][1]:refPt[1][1], refPt[0][0]:refPt[1][0]]\n",
    "    cv2.imshow(\"ROI\", roi)\n",
    "    cv2.waitKey(0)\n",
    "# close all open windows\n",
    "cv2.destroyAllWindows()"
   ]
  },
  {
   "cell_type": "code",
   "execution_count": 10,
   "metadata": {},
   "outputs": [
    {
     "name": "stdout",
     "output_type": "stream",
     "text": [
      "[(334, 19), (772, 156), (25, 303), (581, 569)]\n"
     ]
    }
   ],
   "source": [
    "print(refPt)"
   ]
  },
  {
   "cell_type": "code",
   "execution_count": 17,
   "metadata": {},
   "outputs": [
    {
     "name": "stdout",
     "output_type": "stream",
     "text": [
      "(600, 800, 3)\n"
     ]
    }
   ],
   "source": [
    "#single_pointed_image = np.zeros_like(img)\n",
    "#intersection_coords = np.zeros((len(clusters[0]), len(clusters[1]), 2), dtype='int32')\n",
    "\n",
    "#warped order: red, blue, white, green\n",
    "#25,300 = red\n",
    "#330,20 = blue\n",
    "#570,570 = white\n",
    "#770,160 = green\n",
    "\n",
    "'''\n",
    "colors = [(255,0,0), (0,255,0), (0,0,255), (255,255,255)]\n",
    "colors_i = 0\n",
    "for i in range (2):\n",
    "    for j in range (2):\n",
    "        x, y = custom_coords[i][j][0], custom_coords[i][j][1]\n",
    "        cv2.circle(single_pointed_image, (x,y), radius=0, color=colors[colors_i], thickness=-1)\n",
    "        colors_i+=1\n",
    "'''\n",
    "'''for i in range (1):\n",
    "    for j in range (1):\n",
    "        line1 = clusters[0][i]\n",
    "        line2 = clusters[1][j]\n",
    "        x,y = hough_line_intersection(line1, line2)\n",
    "        intersection_coords[i][j][0], intersection_coords[i][j][1] = x, y\n",
    "        cv2.circle(single_pointed_image, (x,y), radius=0, color=255, thickness=-1)\n",
    "        '''\n",
    "#imshow_unscaled(single_pointed_image)\n",
    "#print(single_pointed_image.shape)"
   ]
  },
  {
   "cell_type": "code",
   "execution_count": 20,
   "metadata": {
    "collapsed": true
   },
   "outputs": [
    {
     "name": "stdout",
     "output_type": "stream",
     "text": [
      "[0 1 1 1 1 0 1 0 0 1 1 1 1 1 1 1 0 0 0 0 0 1 1 1 0 0 0 0 0 1 1 0 0 0 1 0 0\n",
      " 1 0 0 0 0 1 1 0 0 0 0 0 0]\n",
      "int64\n"
     ]
    },
    {
     "data": {
      "image/png": "[encoded data removed]",
      "text/plain": [
       "<Figure size 1152x648 with 1 Axes>"
      ]
     },
     "metadata": {
      "needs_background": "light"
     },
     "output_type": "display_data"
    },
    {
     "name": "stdout",
     "output_type": "stream",
     "text": [
      "[[248.4         2.0455258]\n",
      " [-76.          1.8744837]\n",
      " [ 81.666664    1.9344066]\n",
      " [271.          1.9896753]\n",
      " [  5.6666665   1.9082266]\n",
      " [265.5         2.0158553]\n",
      " [274.5         1.998402 ]\n",
      " [153.          1.9591321]\n",
      " [202.          1.9896753]]\n"
     ]
    },
    {
     "data": {
      "image/png": "[encoded data removed]",
      "text/plain": [
       "<Figure size 1152x648 with 1 Axes>"
      ]
     },
     "metadata": {
      "needs_background": "light"
     },
     "output_type": "display_data"
    },
    {
     "name": "stdout",
     "output_type": "stream",
     "text": [
      "[[248.4         2.0455258]\n",
      " [-76.          1.8744837]\n",
      " [ 81.666664    1.9344066]\n",
      " [271.          1.9896753]\n",
      " [  5.6666665   1.9082266]\n",
      " [265.5         2.0158553]\n",
      " [274.5         1.998402 ]\n",
      " [153.          1.9591321]\n",
      " [202.          1.9896753]]\n"
     ]
    }
   ],
   "source": [
    "#OLD_CODE\n",
    "#_____________________\n",
    "#_____________________\n",
    "print(closest)\n",
    "print(closest.dtype)\n",
    "#each cluster should have 9 lines\n",
    "#use k-means to get the lines\n",
    "k = 9\n",
    "centroids_0 = lines_clustering(clusters[0], k)\n",
    "plt.figure(figsize=(16,9))\n",
    "plt.scatter(clusters[0][:, 0], clusters[0][:, 1], c='g', s=1)\n",
    "plt.scatter(centroids_0[:, 0], centroids_0[:, 1], c='r', s=2)\n",
    "plt.show()\n",
    "print(centroids_0)\n",
    "#each cluster should have 9 lines\n",
    "#use k-means to get the lines\n",
    "k = 9\n",
    "centroids_1 = lines_clustering(clusters[1], k)\n",
    "plt.figure(figsize=(16,9))\n",
    "plt.scatter(clusters[1][:, 0], clusters[1][:, 1], c='g', s=1)\n",
    "plt.scatter(centroids_1[:,0], centroids_1[:,1], c='r', s=2)\n",
    "plt.show()\n",
    "lines_final = np.zeros_like(gray)\n",
    "#draw_lines(centroids_0, lines_final)\n",
    "#draw_lines(centroids_1, lines_final)\n",
    "draw_lines([[200, 101*np.pi]], lines_final)\n",
    "draw_lines([[10000,np.pi]], lines_final)\n",
    "imshow(lines_final)\n",
    "print(centroids_0)\n",
    "#IDEA\n",
    "#Corner detection on detected lines\n"
   ]
  }
 ],
 "metadata": {
  "colab": {
   "collapsed_sections": [],
   "name": "Thesis_stuff.ipynb",
   "provenance": []
  },
  "kernelspec": {
   "display_name": "Python 3",
   "language": "python",
   "name": "python3"
  },
  "language_info": {
   "codemirror_mode": {
    "name": "ipython",
    "version": 3
   },
   "file_extension": ".py",
   "mimetype": "text/x-python",
   "name": "python",
   "nbconvert_exporter": "python",
   "pygments_lexer": "ipython3",
   "version": "3.8.5"
  }
 },
 "nbformat": 4,
 "nbformat_minor": 1
}
